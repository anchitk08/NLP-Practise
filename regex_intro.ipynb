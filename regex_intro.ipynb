{
 "cells": [
  {
   "cell_type": "code",
   "execution_count": 2,
   "id": "inappropriate-receptor",
   "metadata": {},
   "outputs": [],
   "source": [
    "import re"
   ]
  },
  {
   "cell_type": "code",
   "execution_count": 3,
   "id": "derived-cuisine",
   "metadata": {},
   "outputs": [],
   "source": [
    "text = 'My phone number is +919654447212. Oh sorry! I seem to have given the wrong number. The correct number is 0899798228'"
   ]
  },
  {
   "cell_type": "code",
   "execution_count": 9,
   "id": "dietary-scratch",
   "metadata": {},
   "outputs": [
    {
     "data": {
      "text/plain": [
       "<re.Match object; span=(20, 32), match='919654447212'>"
      ]
     },
     "execution_count": 9,
     "metadata": {},
     "output_type": "execute_result"
    }
   ],
   "source": [
    "re.search(r'\\d+', text)"
   ]
  },
  {
   "cell_type": "code",
   "execution_count": 5,
   "id": "stylish-tissue",
   "metadata": {},
   "outputs": [
    {
     "data": {
      "text/plain": [
       "['919654447212', '0899798228']"
      ]
     },
     "execution_count": 5,
     "metadata": {},
     "output_type": "execute_result"
    }
   ],
   "source": [
    "re.findall(r'\\d+', text)"
   ]
  },
  {
   "cell_type": "code",
   "execution_count": 6,
   "id": "sacred-paintball",
   "metadata": {},
   "outputs": [
    {
     "data": {
      "text/plain": [
       "['My',\n",
       " 'phone',\n",
       " 'number',\n",
       " 'is',\n",
       " '919654447212',\n",
       " 'Oh',\n",
       " 'sorry',\n",
       " 'I',\n",
       " 'seem',\n",
       " 'to',\n",
       " 'have',\n",
       " 'given',\n",
       " 'the',\n",
       " 'wrong',\n",
       " 'number',\n",
       " 'The',\n",
       " 'correct',\n",
       " 'number',\n",
       " 'is',\n",
       " '0899798228']"
      ]
     },
     "execution_count": 6,
     "metadata": {},
     "output_type": "execute_result"
    }
   ],
   "source": [
    "re.findall(r'\\w+', text)"
   ]
  },
  {
   "cell_type": "code",
   "execution_count": null,
   "id": "threatened-procedure",
   "metadata": {},
   "outputs": [],
   "source": []
  }
 ],
 "metadata": {
  "kernelspec": {
   "display_name": "Python 3",
   "language": "python",
   "name": "python3"
  },
  "language_info": {
   "codemirror_mode": {
    "name": "ipython",
    "version": 3
   },
   "file_extension": ".py",
   "mimetype": "text/x-python",
   "name": "python",
   "nbconvert_exporter": "python",
   "pygments_lexer": "ipython3",
   "version": "3.7.9"
  }
 },
 "nbformat": 4,
 "nbformat_minor": 5
}
