{
 "cells": [
  {
   "cell_type": "markdown",
   "id": "charged-response",
   "metadata": {},
   "source": [
    "# IMDB reviews sentiment analysis"
   ]
  },
  {
   "cell_type": "markdown",
   "id": "speaking-arcade",
   "metadata": {},
   "source": [
    "This project is a demonstration of how one can use the sentiment anlaysis features of NLP language using the reviews of IMDB. We have gathered a dataset with 748 obersvations or reviews and their sentiments. Using this data, we first performed the preprocessing to clean the data which is then fed to the analyzer using 2 machine learning algorithms; Logistic Regression and SVM. The best model is then saved and later used for testing use the live data."
   ]
  },
  {
   "cell_type": "markdown",
   "id": "documentary-bradford",
   "metadata": {},
   "source": [
    "## Importing relevant libraries"
   ]
  },
  {
   "cell_type": "code",
   "execution_count": 2,
   "id": "changed-implementation",
   "metadata": {},
   "outputs": [],
   "source": [
    "import numpy as np\n",
    "import pandas as pd\n",
    "\n",
    "import preprocess_kgptalkie as pp # Self created package which is used for preprocessing.\n",
    "\n",
    "from sklearn.model_selection import train_test_split\n",
    "from sklearn.linear_model import LogisticRegression\n",
    "\n",
    "from sklearn.feature_extraction.text import TfidfVectorizer # Used to convert the text data to numerical data for computer.\n",
    "\n",
    "from sklearn.model_selection import GridSearchCV # Helps us in selecting best possible combinations of hyperparameters to achieve highest accuracy.\n",
    "from sklearn.pipeline import Pipeline\n",
    "\n",
    "from sklearn.metrics import accuracy_score, confusion_matrix, classification_report"
   ]
  },
  {
   "cell_type": "code",
   "execution_count": 3,
   "id": "opened-artist",
   "metadata": {},
   "outputs": [],
   "source": [
    "df = pd.read_csv('imdb_reviews.txt', sep = '\\t', header = None)\n",
    "df.columns = ['reviews', 'sentiment']"
   ]
  },
  {
   "cell_type": "code",
   "execution_count": 4,
   "id": "outstanding-shade",
   "metadata": {},
   "outputs": [
    {
     "data": {
      "text/html": [
       "<div>\n",
       "<style scoped>\n",
       "    .dataframe tbody tr th:only-of-type {\n",
       "        vertical-align: middle;\n",
       "    }\n",
       "\n",
       "    .dataframe tbody tr th {\n",
       "        vertical-align: top;\n",
       "    }\n",
       "\n",
       "    .dataframe thead th {\n",
       "        text-align: right;\n",
       "    }\n",
       "</style>\n",
       "<table border=\"1\" class=\"dataframe\">\n",
       "  <thead>\n",
       "    <tr style=\"text-align: right;\">\n",
       "      <th></th>\n",
       "      <th>reviews</th>\n",
       "      <th>sentiment</th>\n",
       "    </tr>\n",
       "  </thead>\n",
       "  <tbody>\n",
       "    <tr>\n",
       "      <th>0</th>\n",
       "      <td>A very, very, very slow-moving, aimless movie ...</td>\n",
       "      <td>0</td>\n",
       "    </tr>\n",
       "    <tr>\n",
       "      <th>1</th>\n",
       "      <td>Not sure who was more lost - the flat characte...</td>\n",
       "      <td>0</td>\n",
       "    </tr>\n",
       "    <tr>\n",
       "      <th>2</th>\n",
       "      <td>Attempting artiness with black &amp; white and cle...</td>\n",
       "      <td>0</td>\n",
       "    </tr>\n",
       "    <tr>\n",
       "      <th>3</th>\n",
       "      <td>Very little music or anything to speak of.</td>\n",
       "      <td>0</td>\n",
       "    </tr>\n",
       "    <tr>\n",
       "      <th>4</th>\n",
       "      <td>The best scene in the movie was when Gerardo i...</td>\n",
       "      <td>1</td>\n",
       "    </tr>\n",
       "  </tbody>\n",
       "</table>\n",
       "</div>"
      ],
      "text/plain": [
       "                                             reviews  sentiment\n",
       "0  A very, very, very slow-moving, aimless movie ...          0\n",
       "1  Not sure who was more lost - the flat characte...          0\n",
       "2  Attempting artiness with black & white and cle...          0\n",
       "3       Very little music or anything to speak of.            0\n",
       "4  The best scene in the movie was when Gerardo i...          1"
      ]
     },
     "execution_count": 4,
     "metadata": {},
     "output_type": "execute_result"
    }
   ],
   "source": [
    "df.head()"
   ]
  },
  {
   "cell_type": "code",
   "execution_count": 51,
   "id": "clean-retention",
   "metadata": {},
   "outputs": [
    {
     "data": {
      "text/plain": [
       "(748, 2)"
      ]
     },
     "execution_count": 51,
     "metadata": {},
     "output_type": "execute_result"
    }
   ],
   "source": [
    "df.shape"
   ]
  },
  {
   "cell_type": "markdown",
   "id": "alternate-great",
   "metadata": {},
   "source": [
    "## Data Cleaning and Preprocessing"
   ]
  },
  {
   "cell_type": "code",
   "execution_count": 6,
   "id": "differential-annex",
   "metadata": {},
   "outputs": [],
   "source": [
    "df['reviews'] = df['reviews'].apply(lambda x: pp.cont_exp(x)) # Converting 'I'm' to 'I am'\n",
    "df['reviews'] = df['reviews'].apply(lambda x: pp.remove_accented_chars(x)) # Removing different language chars\n",
    "df['reviews'] = df['reviews'].apply(lambda x: pp.remove_emails(x)) \n",
    "df['reviews'] = df['reviews'].apply(lambda x: pp.remove_urls(x))\n",
    "df['reviews'] = df['reviews'].apply(lambda x: pp.remove_html_tags(x))\n",
    "df['reviews'] = df['reviews'].apply(lambda x: pp.remove_special_chars(x))"
   ]
  },
  {
   "cell_type": "code",
   "execution_count": 9,
   "id": "higher-cooking",
   "metadata": {},
   "outputs": [],
   "source": [
    "df['reviews'] = df['reviews'].apply(lambda x: str(x).lower())"
   ]
  },
  {
   "cell_type": "code",
   "execution_count": 10,
   "id": "continental-halloween",
   "metadata": {},
   "outputs": [
    {
     "data": {
      "text/html": [
       "<div>\n",
       "<style scoped>\n",
       "    .dataframe tbody tr th:only-of-type {\n",
       "        vertical-align: middle;\n",
       "    }\n",
       "\n",
       "    .dataframe tbody tr th {\n",
       "        vertical-align: top;\n",
       "    }\n",
       "\n",
       "    .dataframe thead th {\n",
       "        text-align: right;\n",
       "    }\n",
       "</style>\n",
       "<table border=\"1\" class=\"dataframe\">\n",
       "  <thead>\n",
       "    <tr style=\"text-align: right;\">\n",
       "      <th></th>\n",
       "      <th>reviews</th>\n",
       "      <th>sentiment</th>\n",
       "    </tr>\n",
       "  </thead>\n",
       "  <tbody>\n",
       "    <tr>\n",
       "      <th>0</th>\n",
       "      <td>a very very very slowmoving aimless movie abou...</td>\n",
       "      <td>0</td>\n",
       "    </tr>\n",
       "    <tr>\n",
       "      <th>1</th>\n",
       "      <td>not sure who was more lost the flat characters...</td>\n",
       "      <td>0</td>\n",
       "    </tr>\n",
       "    <tr>\n",
       "      <th>2</th>\n",
       "      <td>attempting artiness with black white and cleve...</td>\n",
       "      <td>0</td>\n",
       "    </tr>\n",
       "    <tr>\n",
       "      <th>3</th>\n",
       "      <td>very little music or anything to speak of</td>\n",
       "      <td>0</td>\n",
       "    </tr>\n",
       "    <tr>\n",
       "      <th>4</th>\n",
       "      <td>the best scene in the movie was when gerardo i...</td>\n",
       "      <td>1</td>\n",
       "    </tr>\n",
       "  </tbody>\n",
       "</table>\n",
       "</div>"
      ],
      "text/plain": [
       "                                             reviews  sentiment\n",
       "0  a very very very slowmoving aimless movie abou...          0\n",
       "1  not sure who was more lost the flat characters...          0\n",
       "2  attempting artiness with black white and cleve...          0\n",
       "3          very little music or anything to speak of          0\n",
       "4  the best scene in the movie was when gerardo i...          1"
      ]
     },
     "execution_count": 10,
     "metadata": {},
     "output_type": "execute_result"
    }
   ],
   "source": [
    "df.head()"
   ]
  },
  {
   "cell_type": "markdown",
   "id": "recorded-abortion",
   "metadata": {},
   "source": [
    "## Training the model and building the model"
   ]
  },
  {
   "cell_type": "code",
   "execution_count": 11,
   "id": "difficult-professional",
   "metadata": {},
   "outputs": [],
   "source": [
    "X = df['reviews']\n",
    "y = df['sentiment']"
   ]
  },
  {
   "cell_type": "code",
   "execution_count": 12,
   "id": "global-block",
   "metadata": {},
   "outputs": [],
   "source": [
    "X_train, X_test, y_train, y_test = train_test_split(X, y, test_size = 0.2, random_state = 0, stratify = y)"
   ]
  },
  {
   "cell_type": "code",
   "execution_count": 13,
   "id": "moderate-participant",
   "metadata": {},
   "outputs": [
    {
     "data": {
      "text/plain": [
       "((598,), (150,))"
      ]
     },
     "execution_count": 13,
     "metadata": {},
     "output_type": "execute_result"
    }
   ],
   "source": [
    "X_train.shape, X_test.shape"
   ]
  },
  {
   "cell_type": "code",
   "execution_count": 30,
   "id": "meaning-understanding",
   "metadata": {},
   "outputs": [],
   "source": [
    "pipe = Pipeline([\n",
    "    ('tfidf', TfidfVectorizer()),\n",
    "    ('clf', LogisticRegression(solver = 'liblinear'))\n",
    "])"
   ]
  },
  {
   "cell_type": "code",
   "execution_count": 31,
   "id": "collect-relation",
   "metadata": {},
   "outputs": [],
   "source": [
    "hyperparameters = {\n",
    "    'tfidf__max_df': (0.5, 1.0),\n",
    "    'tfidf__use_idf' : (True, False),\n",
    "    'tfidf__ngram_range': ((1,1), (1,2)),\n",
    "    'tfidf__analyzer': ('word', 'char', 'char_wb'),\n",
    "    'clf__penalty': ('l1', 'l2'),\n",
    "    'clf__C': (1, 2)\n",
    "}"
   ]
  },
  {
   "cell_type": "code",
   "execution_count": 32,
   "id": "interracial-pocket",
   "metadata": {},
   "outputs": [],
   "source": [
    "clf = GridSearchCV(pipe, hyperparameters, n_jobs = -1, cv = None)"
   ]
  },
  {
   "cell_type": "code",
   "execution_count": 33,
   "id": "social-vienna",
   "metadata": {},
   "outputs": [
    {
     "data": {
      "text/plain": [
       "GridSearchCV(estimator=Pipeline(steps=[('tfidf', TfidfVectorizer()),\n",
       "                                       ('clf',\n",
       "                                        LogisticRegression(solver='liblinear'))]),\n",
       "             n_jobs=-1,\n",
       "             param_grid={'clf__C': (1, 2), 'clf__penalty': ('l1', 'l2'),\n",
       "                         'tfidf__analyzer': ('word', 'char', 'char_wb'),\n",
       "                         'tfidf__max_df': (0.5, 1.0),\n",
       "                         'tfidf__ngram_range': ((1, 1), (1, 2)),\n",
       "                         'tfidf__use_idf': (True, False)})"
      ]
     },
     "execution_count": 33,
     "metadata": {},
     "output_type": "execute_result"
    }
   ],
   "source": [
    "clf.fit(X_train, y_train)"
   ]
  },
  {
   "cell_type": "code",
   "execution_count": 34,
   "id": "oriental-spain",
   "metadata": {},
   "outputs": [
    {
     "data": {
      "text/plain": [
       "Pipeline(steps=[('tfidf', TfidfVectorizer()),\n",
       "                ('clf', LogisticRegression(C=2, solver='liblinear'))])"
      ]
     },
     "execution_count": 34,
     "metadata": {},
     "output_type": "execute_result"
    }
   ],
   "source": [
    " clf.best_estimator_"
   ]
  },
  {
   "cell_type": "code",
   "execution_count": 35,
   "id": "prime-transparency",
   "metadata": {},
   "outputs": [
    {
     "data": {
      "text/plain": [
       "{'clf__C': 2,\n",
       " 'clf__penalty': 'l2',\n",
       " 'tfidf__analyzer': 'word',\n",
       " 'tfidf__max_df': 1.0,\n",
       " 'tfidf__ngram_range': (1, 1),\n",
       " 'tfidf__use_idf': True}"
      ]
     },
     "execution_count": 35,
     "metadata": {},
     "output_type": "execute_result"
    }
   ],
   "source": [
    "clf.best_params_"
   ]
  },
  {
   "cell_type": "code",
   "execution_count": 36,
   "id": "medieval-picking",
   "metadata": {},
   "outputs": [
    {
     "data": {
      "text/plain": [
       "0.7558543417366946"
      ]
     },
     "execution_count": 36,
     "metadata": {},
     "output_type": "execute_result"
    }
   ],
   "source": [
    "clf.best_score_"
   ]
  },
  {
   "cell_type": "code",
   "execution_count": 37,
   "id": "designed-briefing",
   "metadata": {},
   "outputs": [],
   "source": [
    "y_pred = clf.predict(X_test)"
   ]
  },
  {
   "cell_type": "code",
   "execution_count": 38,
   "id": "distributed-establishment",
   "metadata": {},
   "outputs": [
    {
     "name": "stdout",
     "output_type": "stream",
     "text": [
      "              precision    recall  f1-score   support\n",
      "\n",
      "           0       0.70      0.68      0.69        73\n",
      "           1       0.71      0.73      0.72        77\n",
      "\n",
      "    accuracy                           0.71       150\n",
      "   macro avg       0.71      0.71      0.71       150\n",
      "weighted avg       0.71      0.71      0.71       150\n",
      "\n"
     ]
    }
   ],
   "source": [
    "print(classification_report(y_test, y_pred))"
   ]
  },
  {
   "cell_type": "code",
   "execution_count": null,
   "id": "material-bulgaria",
   "metadata": {},
   "outputs": [],
   "source": []
  },
  {
   "cell_type": "code",
   "execution_count": 39,
   "id": "preliminary-boulder",
   "metadata": {},
   "outputs": [],
   "source": [
    "from sklearn.svm import LinearSVC"
   ]
  },
  {
   "cell_type": "code",
   "execution_count": 40,
   "id": "assured-answer",
   "metadata": {},
   "outputs": [],
   "source": [
    "pipe = Pipeline([\n",
    "    ('tfidf', TfidfVectorizer()),\n",
    "    ('clf', LinearSVC())\n",
    "])"
   ]
  },
  {
   "cell_type": "code",
   "execution_count": 41,
   "id": "twelve-aviation",
   "metadata": {},
   "outputs": [],
   "source": [
    "hyperparameters = {\n",
    "    'tfidf__max_df': (0.5, 1.0),\n",
    "    'tfidf__use_idf' : (True, False),\n",
    "    'tfidf__ngram_range': ((1,1), (1,2)),\n",
    "    'tfidf__analyzer': ('word', 'char', 'char_wb'),\n",
    "    'clf__penalty': ('l1', 'l2'),\n",
    "    'clf__C': (1, 2)\n",
    "}"
   ]
  },
  {
   "cell_type": "code",
   "execution_count": 43,
   "id": "entire-aircraft",
   "metadata": {},
   "outputs": [],
   "source": [
    "clf = GridSearchCV(pipe, hyperparameters, n_jobs = -1, cv = 5)"
   ]
  },
  {
   "cell_type": "code",
   "execution_count": 44,
   "id": "deluxe-penguin",
   "metadata": {},
   "outputs": [
    {
     "name": "stderr",
     "output_type": "stream",
     "text": [
      "/Users/anchitkhanna/opt/anaconda3/envs/py3-TF2.0/lib/python3.7/site-packages/sklearn/model_selection/_search.py:921: UserWarning: One or more of the test scores are non-finite: [       nan        nan        nan        nan        nan        nan\n",
      "        nan        nan        nan        nan        nan        nan\n",
      "        nan        nan        nan        nan        nan        nan\n",
      "        nan        nan        nan        nan        nan        nan\n",
      " 0.75743697 0.72904762 0.762493   0.73570028 0.76078431 0.72901961\n",
      " 0.75745098 0.72731092 0.50326331 0.51492997 0.73906162 0.73232493\n",
      " 0.58191877 0.5869888  0.71735294 0.70228291 0.50326331 0.51492997\n",
      " 0.74579832 0.73736695 0.59029412 0.58696078 0.71732493 0.69560224\n",
      "        nan        nan        nan        nan        nan        nan\n",
      "        nan        nan        nan        nan        nan        nan\n",
      "        nan        nan        nan        nan        nan        nan\n",
      "        nan        nan        nan        nan        nan        nan\n",
      " 0.74910364 0.72233894 0.76078431 0.73736695 0.7507423  0.72067227\n",
      " 0.76078431 0.73065826 0.50158263 0.51659664 0.72739496 0.73732493\n",
      " 0.58361345 0.58029412 0.72740896 0.70061625 0.50158263 0.51659664\n",
      " 0.73910364 0.7290056  0.58696078 0.58529412 0.71740896 0.68887955]\n",
      "  category=UserWarning\n"
     ]
    },
    {
     "data": {
      "text/plain": [
       "GridSearchCV(cv=5,\n",
       "             estimator=Pipeline(steps=[('tfidf', TfidfVectorizer()),\n",
       "                                       ('clf', LinearSVC())]),\n",
       "             n_jobs=-1,\n",
       "             param_grid={'clf__C': (1, 2), 'clf__penalty': ('l1', 'l2'),\n",
       "                         'tfidf__analyzer': ('word', 'char', 'char_wb'),\n",
       "                         'tfidf__max_df': (0.5, 1.0),\n",
       "                         'tfidf__ngram_range': ((1, 1), (1, 2)),\n",
       "                         'tfidf__use_idf': (True, False)})"
      ]
     },
     "execution_count": 44,
     "metadata": {},
     "output_type": "execute_result"
    }
   ],
   "source": [
    "clf.fit(X_train, y_train)"
   ]
  },
  {
   "cell_type": "code",
   "execution_count": 45,
   "id": "unavailable-european",
   "metadata": {},
   "outputs": [
    {
     "data": {
      "text/plain": [
       "{'clf__C': 1,\n",
       " 'clf__penalty': 'l2',\n",
       " 'tfidf__analyzer': 'word',\n",
       " 'tfidf__max_df': 0.5,\n",
       " 'tfidf__ngram_range': (1, 2),\n",
       " 'tfidf__use_idf': True}"
      ]
     },
     "execution_count": 45,
     "metadata": {},
     "output_type": "execute_result"
    }
   ],
   "source": [
    "clf.best_params_"
   ]
  },
  {
   "cell_type": "code",
   "execution_count": 46,
   "id": "clear-witness",
   "metadata": {},
   "outputs": [
    {
     "data": {
      "text/plain": [
       "0.7624929971988796"
      ]
     },
     "execution_count": 46,
     "metadata": {},
     "output_type": "execute_result"
    }
   ],
   "source": [
    "clf.best_score_"
   ]
  },
  {
   "cell_type": "code",
   "execution_count": null,
   "id": "infectious-accuracy",
   "metadata": {},
   "outputs": [],
   "source": []
  },
  {
   "cell_type": "code",
   "execution_count": 49,
   "id": "endangered-guatemala",
   "metadata": {},
   "outputs": [],
   "source": [
    "import pickle as pkl"
   ]
  },
  {
   "cell_type": "code",
   "execution_count": 50,
   "id": "pointed-glasgow",
   "metadata": {},
   "outputs": [],
   "source": [
    "pkl.dump(clf, open('model.pkl','wb'))"
   ]
  },
  {
   "cell_type": "code",
   "execution_count": null,
   "id": "residential-guard",
   "metadata": {},
   "outputs": [],
   "source": []
  }
 ],
 "metadata": {
  "kernelspec": {
   "display_name": "Python 3",
   "language": "python",
   "name": "python3"
  },
  "language_info": {
   "codemirror_mode": {
    "name": "ipython",
    "version": 3
   },
   "file_extension": ".py",
   "mimetype": "text/x-python",
   "name": "python",
   "nbconvert_exporter": "python",
   "pygments_lexer": "ipython3",
   "version": "3.7.9"
  }
 },
 "nbformat": 4,
 "nbformat_minor": 5
}
